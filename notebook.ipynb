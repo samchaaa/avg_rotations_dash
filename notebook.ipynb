{
 "cells": [
  {
   "cell_type": "code",
   "execution_count": 1,
   "metadata": {},
   "outputs": [],
   "source": [
    "import pandas as pd\n",
    "# import os\n",
    "from datetime import datetime, timedelta\n",
    "\n",
    "import os, sys\n",
    "module_path = os.path.abspath(os.path.join('./download-tick-from-dukascopy'))\n",
    "if module_path not in sys.path:\n",
    "    sys.path.append(module_path)\n",
    "import download_tick_from_dukascopy\n",
    "\n",
    "path = 'data'\n",
    "inst_txt_path = 'insts.txt'"
   ]
  },
  {
   "cell_type": "code",
   "execution_count": 3,
   "metadata": {
    "scrolled": true
   },
   "outputs": [
    {
     "name": "stdout",
     "output_type": "stream",
     "text": [
      "downloading: https://datafeed.dukascopy.com/datafeed/USA500IDXUSD/2021/03/08/00h_ticks.bi5\n",
      "downloading: https://datafeed.dukascopy.com/datafeed/USA500IDXUSD/2021/03/08/01h_ticks.bi5\n",
      "downloading: https://datafeed.dukascopy.com/datafeed/USA500IDXUSD/2021/03/08/02h_ticks.bi5\n",
      "downloading: https://datafeed.dukascopy.com/datafeed/USA500IDXUSD/2021/03/08/03h_ticks.bi5\n",
      "downloading: https://datafeed.dukascopy.com/datafeed/USA500IDXUSD/2021/03/08/04h_ticks.bi5\n",
      "downloading: https://datafeed.dukascopy.com/datafeed/USA500IDXUSD/2021/03/08/05h_ticks.bi5\n",
      "downloading: https://datafeed.dukascopy.com/datafeed/USA500IDXUSD/2021/03/08/06h_ticks.bi5\n",
      "downloading: https://datafeed.dukascopy.com/datafeed/USA500IDXUSD/2021/03/08/07h_ticks.bi5\n",
      "downloading: https://datafeed.dukascopy.com/datafeed/USA500IDXUSD/2021/03/08/08h_ticks.bi5\n",
      "downloading: https://datafeed.dukascopy.com/datafeed/USA500IDXUSD/2021/03/08/09h_ticks.bi5\n",
      "downloading: https://datafeed.dukascopy.com/datafeed/USA500IDXUSD/2021/03/08/10h_ticks.bi5\n",
      "downloading: https://datafeed.dukascopy.com/datafeed/USA500IDXUSD/2021/03/08/11h_ticks.bi5\n",
      "downloading: https://datafeed.dukascopy.com/datafeed/USA500IDXUSD/2021/03/08/12h_ticks.bi5\n",
      "downloading: https://datafeed.dukascopy.com/datafeed/USA500IDXUSD/2021/03/08/13h_ticks.bi5\n",
      "downloading: https://datafeed.dukascopy.com/datafeed/USA500IDXUSD/2021/03/08/14h_ticks.bi5\n",
      "downloading: https://datafeed.dukascopy.com/datafeed/USA500IDXUSD/2021/03/08/15h_ticks.bi5\n",
      "downloading: https://datafeed.dukascopy.com/datafeed/USA500IDXUSD/2021/03/08/16h_ticks.bi5\n",
      "downloading: https://datafeed.dukascopy.com/datafeed/USA500IDXUSD/2021/03/08/17h_ticks.bi5\n",
      "downloading: https://datafeed.dukascopy.com/datafeed/USA500IDXUSD/2021/03/08/18h_ticks.bi5\n",
      "downloading: https://datafeed.dukascopy.com/datafeed/USA500IDXUSD/2021/03/08/19h_ticks.bi5\n",
      "downloading: https://datafeed.dukascopy.com/datafeed/USA500IDXUSD/2021/03/08/20h_ticks.bi5\n",
      "downloading: https://datafeed.dukascopy.com/datafeed/USA500IDXUSD/2021/03/08/21h_ticks.bi5\n",
      "downloading: https://datafeed.dukascopy.com/datafeed/USA500IDXUSD/2021/03/08/22h_ticks.bi5\n",
      "downloading: https://datafeed.dukascopy.com/datafeed/USA500IDXUSD/2021/03/08/23h_ticks.bi5\n",
      "downloading: https://datafeed.dukascopy.com/datafeed/USA500IDXUSD/2021/03/07/00h_ticks.bi5\n",
      "downloading: https://datafeed.dukascopy.com/datafeed/USA500IDXUSD/2021/03/07/01h_ticks.bi5\n",
      "downloading: https://datafeed.dukascopy.com/datafeed/USA500IDXUSD/2021/03/07/02h_ticks.bi5\n",
      "downloading: https://datafeed.dukascopy.com/datafeed/USA500IDXUSD/2021/03/07/03h_ticks.bi5\n",
      "downloading: https://datafeed.dukascopy.com/datafeed/USA500IDXUSD/2021/03/07/04h_ticks.bi5\n",
      "downloading: https://datafeed.dukascopy.com/datafeed/USA500IDXUSD/2021/03/07/05h_ticks.bi5\n",
      "downloading: https://datafeed.dukascopy.com/datafeed/USA500IDXUSD/2021/03/07/06h_ticks.bi5\n",
      "downloading: https://datafeed.dukascopy.com/datafeed/USA500IDXUSD/2021/03/07/07h_ticks.bi5\n",
      "downloading: https://datafeed.dukascopy.com/datafeed/USA500IDXUSD/2021/03/07/08h_ticks.bi5\n",
      "downloading: https://datafeed.dukascopy.com/datafeed/USA500IDXUSD/2021/03/07/09h_ticks.bi5\n",
      "downloading: https://datafeed.dukascopy.com/datafeed/USA500IDXUSD/2021/03/07/10h_ticks.bi5\n",
      "downloading: https://datafeed.dukascopy.com/datafeed/USA500IDXUSD/2021/03/07/11h_ticks.bi5\n",
      "downloading: https://datafeed.dukascopy.com/datafeed/USA500IDXUSD/2021/03/07/12h_ticks.bi5\n",
      "downloading: https://datafeed.dukascopy.com/datafeed/USA500IDXUSD/2021/03/07/13h_ticks.bi5\n",
      "downloading: https://datafeed.dukascopy.com/datafeed/USA500IDXUSD/2021/03/07/14h_ticks.bi5\n",
      "downloading: https://datafeed.dukascopy.com/datafeed/USA500IDXUSD/2021/03/07/15h_ticks.bi5\n",
      "downloading: https://datafeed.dukascopy.com/datafeed/USA500IDXUSD/2021/03/07/16h_ticks.bi5\n",
      "downloading: https://datafeed.dukascopy.com/datafeed/USA500IDXUSD/2021/03/07/17h_ticks.bi5\n",
      "downloading: https://datafeed.dukascopy.com/datafeed/USA500IDXUSD/2021/03/07/18h_ticks.bi5\n",
      "downloading: https://datafeed.dukascopy.com/datafeed/USA500IDXUSD/2021/03/07/19h_ticks.bi5\n",
      "downloading: https://datafeed.dukascopy.com/datafeed/USA500IDXUSD/2021/03/07/20h_ticks.bi5\n",
      "downloading: https://datafeed.dukascopy.com/datafeed/USA500IDXUSD/2021/03/07/21h_ticks.bi5\n",
      "downloading: https://datafeed.dukascopy.com/datafeed/USA500IDXUSD/2021/03/07/22h_ticks.bi5\n",
      "downloading: https://datafeed.dukascopy.com/datafeed/USA500IDXUSD/2021/03/07/23h_ticks.bi5\n",
      "downloading: https://datafeed.dukascopy.com/datafeed/USA500IDXUSD/2021/03/06/00h_ticks.bi5\n",
      "downloading: https://datafeed.dukascopy.com/datafeed/USA500IDXUSD/2021/03/06/01h_ticks.bi5\n",
      "downloading: https://datafeed.dukascopy.com/datafeed/USA500IDXUSD/2021/03/06/02h_ticks.bi5\n",
      "downloading: https://datafeed.dukascopy.com/datafeed/USA500IDXUSD/2021/03/06/03h_ticks.bi5\n",
      "downloading: https://datafeed.dukascopy.com/datafeed/USA500IDXUSD/2021/03/06/04h_ticks.bi5\n",
      "downloading: https://datafeed.dukascopy.com/datafeed/USA500IDXUSD/2021/03/06/05h_ticks.bi5\n",
      "downloading: https://datafeed.dukascopy.com/datafeed/USA500IDXUSD/2021/03/06/06h_ticks.bi5\n",
      "downloading: https://datafeed.dukascopy.com/datafeed/USA500IDXUSD/2021/03/06/07h_ticks.bi5\n",
      "downloading: https://datafeed.dukascopy.com/datafeed/USA500IDXUSD/2021/03/06/08h_ticks.bi5\n",
      "downloading: https://datafeed.dukascopy.com/datafeed/USA500IDXUSD/2021/03/06/09h_ticks.bi5\n",
      "downloading: https://datafeed.dukascopy.com/datafeed/USA500IDXUSD/2021/03/06/10h_ticks.bi5\n",
      "downloading: https://datafeed.dukascopy.com/datafeed/USA500IDXUSD/2021/03/06/11h_ticks.bi5\n",
      "downloading: https://datafeed.dukascopy.com/datafeed/USA500IDXUSD/2021/03/06/12h_ticks.bi5\n",
      "downloading: https://datafeed.dukascopy.com/datafeed/USA500IDXUSD/2021/03/06/13h_ticks.bi5\n",
      "downloading: https://datafeed.dukascopy.com/datafeed/USA500IDXUSD/2021/03/06/14h_ticks.bi5\n",
      "downloading: https://datafeed.dukascopy.com/datafeed/USA500IDXUSD/2021/03/06/15h_ticks.bi5\n",
      "downloading: https://datafeed.dukascopy.com/datafeed/USA500IDXUSD/2021/03/06/16h_ticks.bi5\n",
      "downloading: https://datafeed.dukascopy.com/datafeed/USA500IDXUSD/2021/03/06/17h_ticks.bi5\n",
      "downloading: https://datafeed.dukascopy.com/datafeed/USA500IDXUSD/2021/03/06/18h_ticks.bi5\n",
      "downloading: https://datafeed.dukascopy.com/datafeed/USA500IDXUSD/2021/03/06/19h_ticks.bi5\n",
      "downloading: https://datafeed.dukascopy.com/datafeed/USA500IDXUSD/2021/03/06/20h_ticks.bi5\n",
      "downloading: https://datafeed.dukascopy.com/datafeed/USA500IDXUSD/2021/03/06/21h_ticks.bi5\n",
      "downloading: https://datafeed.dukascopy.com/datafeed/USA500IDXUSD/2021/03/06/22h_ticks.bi5\n",
      "downloading: https://datafeed.dukascopy.com/datafeed/USA500IDXUSD/2021/03/06/23h_ticks.bi5\n",
      "downloading: https://datafeed.dukascopy.com/datafeed/USA500IDXUSD/2021/03/05/00h_ticks.bi5\n",
      "downloading: https://datafeed.dukascopy.com/datafeed/USA500IDXUSD/2021/03/05/01h_ticks.bi5\n",
      "downloading: https://datafeed.dukascopy.com/datafeed/USA500IDXUSD/2021/03/05/02h_ticks.bi5\n",
      "downloading: https://datafeed.dukascopy.com/datafeed/USA500IDXUSD/2021/03/05/03h_ticks.bi5\n",
      "downloading: https://datafeed.dukascopy.com/datafeed/USA500IDXUSD/2021/03/05/04h_ticks.bi5\n",
      "downloading: https://datafeed.dukascopy.com/datafeed/USA500IDXUSD/2021/03/05/05h_ticks.bi5\n",
      "downloading: https://datafeed.dukascopy.com/datafeed/USA500IDXUSD/2021/03/05/06h_ticks.bi5\n",
      "downloading: https://datafeed.dukascopy.com/datafeed/USA500IDXUSD/2021/03/05/07h_ticks.bi5\n",
      "downloading: https://datafeed.dukascopy.com/datafeed/USA500IDXUSD/2021/03/05/08h_ticks.bi5\n",
      "downloading: https://datafeed.dukascopy.com/datafeed/USA500IDXUSD/2021/03/05/09h_ticks.bi5\n",
      "downloading: https://datafeed.dukascopy.com/datafeed/USA500IDXUSD/2021/03/05/10h_ticks.bi5\n",
      "downloading: https://datafeed.dukascopy.com/datafeed/USA500IDXUSD/2021/03/05/11h_ticks.bi5\n",
      "downloading: https://datafeed.dukascopy.com/datafeed/USA500IDXUSD/2021/03/05/12h_ticks.bi5\n",
      "downloading: https://datafeed.dukascopy.com/datafeed/USA500IDXUSD/2021/03/05/13h_ticks.bi5\n",
      "downloading: https://datafeed.dukascopy.com/datafeed/USA500IDXUSD/2021/03/05/14h_ticks.bi5\n",
      "downloading: https://datafeed.dukascopy.com/datafeed/USA500IDXUSD/2021/03/05/15h_ticks.bi5\n",
      "downloading: https://datafeed.dukascopy.com/datafeed/USA500IDXUSD/2021/03/05/16h_ticks.bi5\n",
      "downloading: https://datafeed.dukascopy.com/datafeed/USA500IDXUSD/2021/03/05/17h_ticks.bi5\n",
      "downloading: https://datafeed.dukascopy.com/datafeed/USA500IDXUSD/2021/03/05/18h_ticks.bi5\n",
      "downloading: https://datafeed.dukascopy.com/datafeed/USA500IDXUSD/2021/03/05/19h_ticks.bi5\n"
     ]
    },
    {
     "name": "stdout",
     "output_type": "stream",
     "text": [
      "downloading: https://datafeed.dukascopy.com/datafeed/USA500IDXUSD/2021/03/05/20h_ticks.bi5\n",
      "downloading: https://datafeed.dukascopy.com/datafeed/USA500IDXUSD/2021/03/05/21h_ticks.bi5\n",
      "downloading: https://datafeed.dukascopy.com/datafeed/USA500IDXUSD/2021/03/05/22h_ticks.bi5\n",
      "downloading: https://datafeed.dukascopy.com/datafeed/USA500IDXUSD/2021/03/05/23h_ticks.bi5\n"
     ]
    }
   ],
   "source": [
    "# inst = 'BTCUSD'\n",
    "inst = 'USA500IDXUSD'\n",
    "# inst = 'USATECHIDXUSD'\n",
    "if inst not in os.listdir(path):\n",
    "    os.mkdir('{}/{}'.format(path, inst))\n",
    "    \n",
    "#\n",
    "#   To do:\n",
    "#       - Check if already in data\n",
    "#       - Download days you don't have\n",
    "#\n",
    "    \n",
    "# gotta loop through this, and handle no columns (1kb .csv)\n",
    "\n",
    "# check handling quitting\n",
    "\n",
    "base = datetime.today()\n",
    "date_list = [datetime.strftime(base - timedelta(days=x), '%Y-%m-%d') for x in range(0, 7)]\n",
    "for date in date_list:\n",
    "    download_tick_from_dukascopy.main(inst, date, date, './{}/{}'.format(path, inst))"
   ]
  },
  {
   "cell_type": "code",
   "execution_count": null,
   "metadata": {},
   "outputs": [],
   "source": [
    "# pd.read_csv(path + '/BTCUSD_2021-01-05_2021-01-06.csv')"
   ]
  },
  {
   "cell_type": "code",
   "execution_count": 4,
   "metadata": {},
   "outputs": [],
   "source": [
    "def check_date():\n",
    "    \n",
    "    # check current date\n",
    "    \n",
    "    \n",
    "    # open list of inst's to update\n",
    "        # make insts.txt\n",
    "    \n",
    "    # for inst in insts:\n",
    "        # open saved data (from list of inst's to update), find last date\n",
    "    \n",
    "    # if not updated, return inst and start date\n",
    "    \n",
    "    return datetime.now()"
   ]
  },
  {
   "cell_type": "code",
   "execution_count": 5,
   "metadata": {},
   "outputs": [
    {
     "data": {
      "text/plain": [
       "datetime.datetime(2021, 4, 11, 22, 38, 6, 357386)"
      ]
     },
     "execution_count": 5,
     "metadata": {},
     "output_type": "execute_result"
    }
   ],
   "source": [
    "check_date()"
   ]
  },
  {
   "cell_type": "code",
   "execution_count": 6,
   "metadata": {},
   "outputs": [
    {
     "data": {
      "text/plain": [
       "['GBPUSD', 'BTCUSD', 'USA500IDXUSD', 'USATECHIDXUSD']"
      ]
     },
     "execution_count": 6,
     "metadata": {},
     "output_type": "execute_result"
    }
   ],
   "source": [
    "with open(inst_txt_path, 'r') as f:\n",
    "    insts = f.read().split('\\n')\n",
    "insts"
   ]
  },
  {
   "cell_type": "code",
   "execution_count": 17,
   "metadata": {},
   "outputs": [
    {
     "data": {
      "text/plain": [
       "['data/USA500IDXUSD/USA500IDXUSD_2021-04-05_2021-04-05.csv',\n",
       " 'data/USA500IDXUSD/USA500IDXUSD_2021-04-06_2021-04-06.csv',\n",
       " 'data/USA500IDXUSD/USA500IDXUSD_2021-04-07_2021-04-07.csv',\n",
       " 'data/USA500IDXUSD/USA500IDXUSD_2021-04-08_2021-04-08.csv',\n",
       " 'data/USA500IDXUSD/USA500IDXUSD_2021-04-09_2021-04-09.csv']"
      ]
     },
     "execution_count": 17,
     "metadata": {},
     "output_type": "execute_result"
    }
   ],
   "source": [
    "[file for file in os.listdir('{}/{}'.format(path, inst)) if os.path.getsize('{}/{}/{}'.format(path, inst, file)) > 2]"
   ]
  },
  {
   "cell_type": "code",
   "execution_count": 21,
   "metadata": {},
   "outputs": [],
   "source": [
    "def get_all(inst):\n",
    "    # concat all .csvs within dir\n",
    "    data = pd.DataFrame()\n",
    "    \n",
    "    files = [\n",
    "        file for file \n",
    "        in os.listdir('{}/{}'.format(path, inst)) \n",
    "        if os.path.getsize('{}/{}/{}'.format(path, inst, file)) > 2\n",
    "    ]\n",
    "    \n",
    "    for csv in files:\n",
    "        data = pd.concat([\n",
    "            data,\n",
    "            pd.read_csv(\n",
    "                '{}/{}/{}'.format(path, inst, csv),\n",
    "                header=None\n",
    "            )\n",
    "        ])\n",
    "    data.columns = ['dt', 'bid', 'ask', 'bidvol', 'askvol']\n",
    "    return data"
   ]
  },
  {
   "cell_type": "code",
   "execution_count": 22,
   "metadata": {},
   "outputs": [],
   "source": [
    "def clean(inst):\n",
    "    data = get_all(inst)\n",
    "    # dd = len(data)\n",
    "    data = data.drop_duplicates()\n",
    "    # print('{} duplicate rows dropped'.format(dd-len(data)))\n",
    "    # data = data.sort_values('dt')\n",
    "    # print('max: {}'.format(data['dt'].max()))\n",
    "    data['mid'] = (data['bid'] + data['ask']) / 2\n",
    "    data.index = data['dt'].apply(lambda x: datetime.strptime(x, '%Y-%m-%d %H:%M:%S.%f'))\n",
    "    data = data[['mid']].resample('1Min').ohlc()\n",
    "    return data"
   ]
  },
  {
   "cell_type": "code",
   "execution_count": 23,
   "metadata": {},
   "outputs": [
    {
     "data": {
      "text/html": [
       "<div>\n",
       "<style scoped>\n",
       "    .dataframe tbody tr th:only-of-type {\n",
       "        vertical-align: middle;\n",
       "    }\n",
       "\n",
       "    .dataframe tbody tr th {\n",
       "        vertical-align: top;\n",
       "    }\n",
       "\n",
       "    .dataframe thead tr th {\n",
       "        text-align: left;\n",
       "    }\n",
       "\n",
       "    .dataframe thead tr:last-of-type th {\n",
       "        text-align: right;\n",
       "    }\n",
       "</style>\n",
       "<table border=\"1\" class=\"dataframe\">\n",
       "  <thead>\n",
       "    <tr>\n",
       "      <th></th>\n",
       "      <th colspan=\"4\" halign=\"left\">mid</th>\n",
       "    </tr>\n",
       "    <tr>\n",
       "      <th></th>\n",
       "      <th>open</th>\n",
       "      <th>high</th>\n",
       "      <th>low</th>\n",
       "      <th>close</th>\n",
       "    </tr>\n",
       "    <tr>\n",
       "      <th>dt</th>\n",
       "      <th></th>\n",
       "      <th></th>\n",
       "      <th></th>\n",
       "      <th></th>\n",
       "    </tr>\n",
       "  </thead>\n",
       "  <tbody>\n",
       "    <tr>\n",
       "      <th>2021-04-05 00:00:00</th>\n",
       "      <td>4042.5660</td>\n",
       "      <td>4042.7075</td>\n",
       "      <td>4040.9685</td>\n",
       "      <td>4042.1985</td>\n",
       "    </tr>\n",
       "    <tr>\n",
       "      <th>2021-04-05 00:01:00</th>\n",
       "      <td>4042.3465</td>\n",
       "      <td>4042.5045</td>\n",
       "      <td>4040.9985</td>\n",
       "      <td>4040.9985</td>\n",
       "    </tr>\n",
       "    <tr>\n",
       "      <th>2021-04-05 00:02:00</th>\n",
       "      <td>4041.0950</td>\n",
       "      <td>4041.2075</td>\n",
       "      <td>4040.6970</td>\n",
       "      <td>4040.9925</td>\n",
       "    </tr>\n",
       "    <tr>\n",
       "      <th>2021-04-05 00:03:00</th>\n",
       "      <td>4040.8505</td>\n",
       "      <td>4041.0075</td>\n",
       "      <td>4040.5105</td>\n",
       "      <td>4040.9955</td>\n",
       "    </tr>\n",
       "    <tr>\n",
       "      <th>2021-04-05 00:04:00</th>\n",
       "      <td>4040.8490</td>\n",
       "      <td>4041.9955</td>\n",
       "      <td>4040.7045</td>\n",
       "      <td>4041.9955</td>\n",
       "    </tr>\n",
       "    <tr>\n",
       "      <th>...</th>\n",
       "      <td>...</td>\n",
       "      <td>...</td>\n",
       "      <td>...</td>\n",
       "      <td>...</td>\n",
       "    </tr>\n",
       "    <tr>\n",
       "      <th>2021-04-09 20:10:00</th>\n",
       "      <td>4120.6730</td>\n",
       "      <td>4120.9000</td>\n",
       "      <td>4120.4000</td>\n",
       "      <td>4120.7075</td>\n",
       "    </tr>\n",
       "    <tr>\n",
       "      <th>2021-04-09 20:11:00</th>\n",
       "      <td>4120.7660</td>\n",
       "      <td>4121.1940</td>\n",
       "      <td>4119.7030</td>\n",
       "      <td>4120.2015</td>\n",
       "    </tr>\n",
       "    <tr>\n",
       "      <th>2021-04-09 20:12:00</th>\n",
       "      <td>4120.2990</td>\n",
       "      <td>4120.7045</td>\n",
       "      <td>4120.2990</td>\n",
       "      <td>4120.6715</td>\n",
       "    </tr>\n",
       "    <tr>\n",
       "      <th>2021-04-09 20:13:00</th>\n",
       "      <td>4120.5460</td>\n",
       "      <td>4120.9255</td>\n",
       "      <td>4119.3955</td>\n",
       "      <td>4120.7030</td>\n",
       "    </tr>\n",
       "    <tr>\n",
       "      <th>2021-04-09 20:14:00</th>\n",
       "      <td>4120.5415</td>\n",
       "      <td>4121.7330</td>\n",
       "      <td>4120.3775</td>\n",
       "      <td>4121.2505</td>\n",
       "    </tr>\n",
       "  </tbody>\n",
       "</table>\n",
       "<p>6975 rows × 4 columns</p>\n",
       "</div>"
      ],
      "text/plain": [
       "                           mid                                 \n",
       "                          open       high        low      close\n",
       "dt                                                             \n",
       "2021-04-05 00:00:00  4042.5660  4042.7075  4040.9685  4042.1985\n",
       "2021-04-05 00:01:00  4042.3465  4042.5045  4040.9985  4040.9985\n",
       "2021-04-05 00:02:00  4041.0950  4041.2075  4040.6970  4040.9925\n",
       "2021-04-05 00:03:00  4040.8505  4041.0075  4040.5105  4040.9955\n",
       "2021-04-05 00:04:00  4040.8490  4041.9955  4040.7045  4041.9955\n",
       "...                        ...        ...        ...        ...\n",
       "2021-04-09 20:10:00  4120.6730  4120.9000  4120.4000  4120.7075\n",
       "2021-04-09 20:11:00  4120.7660  4121.1940  4119.7030  4120.2015\n",
       "2021-04-09 20:12:00  4120.2990  4120.7045  4120.2990  4120.6715\n",
       "2021-04-09 20:13:00  4120.5460  4120.9255  4119.3955  4120.7030\n",
       "2021-04-09 20:14:00  4120.5415  4121.7330  4120.3775  4121.2505\n",
       "\n",
       "[6975 rows x 4 columns]"
      ]
     },
     "execution_count": 23,
     "metadata": {},
     "output_type": "execute_result"
    }
   ],
   "source": [
    "# inst = 'USATECHIDXUSD'\n",
    "# inst = 'BTCUSD'\n",
    "inst = 'USA500IDXUSD'\n",
    "\n",
    "data = clean(inst)\n",
    "data"
   ]
  },
  {
   "cell_type": "code",
   "execution_count": null,
   "metadata": {},
   "outputs": [],
   "source": []
  },
  {
   "cell_type": "code",
   "execution_count": null,
   "metadata": {},
   "outputs": [],
   "source": [
    "# take last datetime, find difference from current date\n",
    "(datetime.now() - datetime.strptime(data['dt'].max(), '%Y-%m-%d %H:%M:%S.%f')).days"
   ]
  },
  {
   "cell_type": "code",
   "execution_count": null,
   "metadata": {},
   "outputs": [],
   "source": [
    "# just get last week because it's less annoying\n",
    "datetime.strftime((datetime.now() - timedelta(7)), '%Y-%m-%d')"
   ]
  },
  {
   "cell_type": "code",
   "execution_count": null,
   "metadata": {},
   "outputs": [],
   "source": [
    "# class insts list\n",
    "\n",
    "# class inst\n",
    "    # start date\n",
    "    # end date\n",
    "    # write to csv\n",
    "    # do things"
   ]
  },
  {
   "cell_type": "code",
   "execution_count": null,
   "metadata": {},
   "outputs": [],
   "source": []
  },
  {
   "cell_type": "code",
   "execution_count": null,
   "metadata": {},
   "outputs": [],
   "source": []
  },
  {
   "cell_type": "code",
   "execution_count": null,
   "metadata": {},
   "outputs": [],
   "source": [
    "for inst in insts:\n",
    "    print(inst)\n",
    "    if inst not in os.listdir(path):\n",
    "        os.mkdir('{}/{}'.format(path, inst))\n",
    "    print(os.listdir('{}/{}'.format(path, inst)))\n",
    "    \n",
    "    # consider making some meta-file that keeps last updated date instead of concatting everytime\n",
    "    \n",
    "    "
   ]
  },
  {
   "cell_type": "code",
   "execution_count": null,
   "metadata": {},
   "outputs": [],
   "source": []
  }
 ],
 "metadata": {
  "kernelspec": {
   "display_name": "Python 3",
   "language": "python",
   "name": "python3"
  },
  "language_info": {
   "codemirror_mode": {
    "name": "ipython",
    "version": 3
   },
   "file_extension": ".py",
   "mimetype": "text/x-python",
   "name": "python",
   "nbconvert_exporter": "python",
   "pygments_lexer": "ipython3",
   "version": "3.8.5"
  }
 },
 "nbformat": 4,
 "nbformat_minor": 4
}
