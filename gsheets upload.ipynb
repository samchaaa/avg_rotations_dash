{
 "cells": [
  {
   "cell_type": "code",
   "execution_count": null,
   "metadata": {},
   "outputs": [],
   "source": [
    "sh = gc.create('A new spreadsheet')"
   ]
  },
  {
   "cell_type": "code",
   "execution_count": 3,
   "metadata": {},
   "outputs": [],
   "source": [
    "import gspread\n",
    "\n",
    "gc = gspread.service_account(filename='avg-rotation-dash-837ccaf11def.json')\n",
    "\n",
    "sh = gc.create('A new spreadsheet')\n",
    "sh.share('samchakerian@gmail.com', perm_type='user', role='writer')"
   ]
  },
  {
   "cell_type": "code",
   "execution_count": 4,
   "metadata": {},
   "outputs": [
    {
     "data": {
      "text/plain": [
       "{'spreadsheetId': '1Ur7CJJu-cDkhcFjEXG4smsxlKYc_323PcPYloLEvshA',\n",
       " 'replies': [{}]}"
      ]
     },
     "execution_count": 4,
     "metadata": {},
     "output_type": "execute_result"
    }
   ],
   "source": [
    "# Open a sheet from a spreadsheet in one go\n",
    "wks = gc.open(\"A new spreadsheet\").sheet1\n",
    "\n",
    "# Update a range of cells using the top left corner address\n",
    "wks.update('A1', [[1, 2], [3, 4]])\n",
    "\n",
    "# Or update a single cell\n",
    "wks.update('B42', \"it's down there somewhere, let me take another look.\")\n",
    "\n",
    "# Format the header\n",
    "wks.format('A1:B1', {'textFormat': {'bold': True}})"
   ]
  },
  {
   "cell_type": "code",
   "execution_count": 5,
   "metadata": {},
   "outputs": [],
   "source": [
    "# # import gspread\n",
    "# # from oauth2client.service_account import ServiceAccountCredentials\n",
    "\n",
    "# SCOPES = [\"https://spreadsheets.google.com/feeds\"]\n",
    "\n",
    "# credentials = ServiceAccountCredentials.from_json_keyfile_name(\"avg-rotation-dash-837ccaf11def.json\", SCOPES)\n",
    "# connection = gspread.authorize(credentials)\n",
    "\n",
    "# worksheet = connection.open(\"Test spreadsheet\").sheet1\n",
    "# worksheet.update_acell(\"A1\", \"Hello from PythonAnywhere!\")\n",
    "# print(\"Done updating, check the spreadsheet now\")"
   ]
  },
  {
   "cell_type": "code",
   "execution_count": 28,
   "metadata": {},
   "outputs": [],
   "source": [
    "\n",
    "# import pandas as pd\n",
    "\n",
    "# data = pd.read_csv(\"./data/BTCUSD/BTCUSD_2021-04-05_2021-04-05.csv\").head()\n",
    "\n",
    "# # data.columns.tolist()\n",
    "# data.values.tolist()\n",
    "\n",
    "\n",
    "# data.columns = [None, 'asdf', 'asdf2', 'asdf3', 'asdf4']\n",
    "\n",
    "# data.iloc[2, 2] = None\n",
    "\n",
    "# data.fillna('-').values.tolist()"
   ]
  },
  {
   "cell_type": "code",
   "execution_count": null,
   "metadata": {},
   "outputs": [],
   "source": []
  }
 ],
 "metadata": {
  "kernelspec": {
   "display_name": "Python 3",
   "language": "python",
   "name": "python3"
  },
  "language_info": {
   "codemirror_mode": {
    "name": "ipython",
    "version": 3
   },
   "file_extension": ".py",
   "mimetype": "text/x-python",
   "name": "python",
   "nbconvert_exporter": "python",
   "pygments_lexer": "ipython3",
   "version": "3.8.5"
  }
 },
 "nbformat": 4,
 "nbformat_minor": 4
}
