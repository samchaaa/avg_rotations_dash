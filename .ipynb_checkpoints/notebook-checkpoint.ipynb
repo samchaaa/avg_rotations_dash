{
 "cells": [
  {
   "cell_type": "code",
   "execution_count": 1,
   "metadata": {},
   "outputs": [],
   "source": [
    "import pandas as pd\n",
    "# import os\n",
    "from datetime import datetime, timedelta\n",
    "import re\n",
    "\n",
    "import numpy as np\n",
    "\n",
    "from pandas.tseries.offsets import BDay\n",
    "\n",
    "import os, sys\n",
    "module_path = os.path.abspath(os.path.join('./download-tick-from-dukascopy'))\n",
    "if module_path not in sys.path:\n",
    "    sys.path.append(module_path)\n",
    "import download_tick_from_dukascopy\n",
    "\n",
    "path = 'data'\n",
    "inst_txt_path = 'insts.txt'\n",
    "\n",
    "DATE_RANGE = 5"
   ]
  },
  {
   "cell_type": "code",
   "execution_count": 2,
   "metadata": {
    "scrolled": true
   },
   "outputs": [],
   "source": [
    "# inst = 'BTCUSD'\n",
    "# inst = 'USA500IDXUSD'\n",
    "# inst = 'USATECHIDXUSD'\n",
    "\n",
    "# if inst not in os.listdir(path):\n",
    "#     os.mkdir('{}/{}'.format(path, inst))\n",
    "    \n",
    "#\n",
    "#   To do:\n",
    "#       - Check if already in data\n",
    "#       - Download days you don't have\n",
    "#\n",
    "    \n",
    "# gotta loop through this, and handle no columns (1kb .csv)\n",
    "\n",
    "# check handling quitting\n"
   ]
  },
  {
   "cell_type": "code",
   "execution_count": 3,
   "metadata": {},
   "outputs": [],
   "source": [
    "def get_all(inst):\n",
    "    # concat all .csvs within dir\n",
    "    data = pd.DataFrame()\n",
    "    \n",
    "    files = [\n",
    "        file for file \n",
    "        in os.listdir('{}/{}'.format(path, inst)) \n",
    "        if os.path.getsize('{}/{}/{}'.format(path, inst, file)) > 2\n",
    "    ]\n",
    "    \n",
    "    for csv in files:\n",
    "        data = pd.concat([\n",
    "            data,\n",
    "            pd.read_csv(\n",
    "                '{}/{}/{}'.format(path, inst, csv),\n",
    "                header=None\n",
    "            )\n",
    "        ])\n",
    "    data.columns = ['dt', 'bid', 'ask', 'bidvol', 'askvol']\n",
    "    return data\n",
    "\n",
    "\n",
    "def clean(inst):\n",
    "    data = get_all(inst)\n",
    "    # dd = len(data)\n",
    "    data = data.drop_duplicates()\n",
    "    # print('{} duplicate rows dropped'.format(dd-len(data)))\n",
    "    # data = data.sort_values('dt')\n",
    "    # print('max: {}'.format(data['dt'].max()))\n",
    "    data['mid'] = (data['bid'] + data['ask']) / 2\n",
    "    data.index = data['dt'].apply(lambda x: datetime.strptime(x, '%Y-%m-%d %H:%M:%S.%f'))\n",
    "    data = data[['mid']].resample('1Min').ohlc()\n",
    "    return data"
   ]
  },
  {
   "cell_type": "code",
   "execution_count": 4,
   "metadata": {},
   "outputs": [],
   "source": [
    "# # inst = 'USATECHIDXUSD'\n",
    "# # inst = 'BTCUSD'\n",
    "# inst = 'USA500IDXUSD'\n",
    "\n",
    "# data = clean(inst)\n",
    "# data"
   ]
  },
  {
   "cell_type": "code",
   "execution_count": 5,
   "metadata": {},
   "outputs": [],
   "source": [
    "# # take last datetime, find difference from current date\n",
    "# # datetime.strptime(data.index.max(), '%Y-%m-%d %H:%M:%S.%f')\n",
    "# (datetime.now() - data.index.max()).days"
   ]
  },
  {
   "cell_type": "code",
   "execution_count": 6,
   "metadata": {},
   "outputs": [],
   "source": [
    "# # just get last week because it's less annoying\n",
    "# datetime.strftime((datetime.now() - timedelta(7)), '%Y-%m-%d')"
   ]
  },
  {
   "cell_type": "code",
   "execution_count": 7,
   "metadata": {},
   "outputs": [],
   "source": [
    "# class insts list\n",
    "\n",
    "# class inst\n",
    "    # start date\n",
    "    # end date\n",
    "    # write to csv\n",
    "    # do things"
   ]
  },
  {
   "cell_type": "code",
   "execution_count": 8,
   "metadata": {},
   "outputs": [],
   "source": [
    "# with open(inst_txt_path, 'r') as f:\n",
    "#     insts = f.read().split('\\n')\n",
    "# print(insts)\n",
    "\n",
    "# for inst in insts:\n",
    "#     print(inst)\n",
    "#     if inst not in os.listdir(path):\n",
    "#         os.mkdir('{}/{}'.format(path, inst))\n",
    "#     print(os.listdir('{}/{}'.format(path, inst)))\n",
    "    \n",
    "#     # consider making some meta-file that keeps last updated date instead of concatting everytime\n",
    "    "
   ]
  },
  {
   "cell_type": "code",
   "execution_count": 9,
   "metadata": {},
   "outputs": [],
   "source": [
    "def check_max(inst):\n",
    "    \n",
    "    # Returns min/max date from current data by:\n",
    "    # 1.) Finding max filename (doesn't account for end date of data .csv)\n",
    "    # 2.) Finding max date within that file (doesn't account for gaps)\n",
    "    \n",
    "    files = [\n",
    "        file for file \n",
    "        in os.listdir('{}/{}'.format(path, inst)) \n",
    "        if os.path.getsize('{}/{}/{}'.format(path, inst, file)) > 2\n",
    "    ]\n",
    "    \n",
    "    if files:\n",
    "    \n",
    "        # Check\n",
    "        csv = max(files)\n",
    "        inst_max = re.search('[0-9]{4}-[0-9]{2}-[0-9]{2}', max(files)).group(0)\n",
    "\n",
    "        #     data = pd.read_csv('{}/{}/{}'.format(path, inst, csv), header=None)\n",
    "        #     data.columns = ['dt', 'bid', 'ask', 'bidvol', 'askvol']\n",
    "        #     # data = data.drop_duplicates()\n",
    "        #     data.index = data['dt'].apply(lambda x: datetime.strptime(x, '%Y-%m-%d %H:%M:%S.%f'))\n",
    "        #     # data = data[['bid']].resample('1Min').first()\n",
    "        #     inst_max = data.index.max().date()\n",
    "\n",
    "        # Get min date data\n",
    "        csv = min(files)\n",
    "        inst_min = re.search('[0-9]{4}-[0-9]{2}-[0-9]{2}', min(files)).group(0)\n",
    "\n",
    "        #     data = pd.read_csv('{}/{}/{}'.format(path, inst, csv), header=None)\n",
    "        #     data.columns = ['dt', 'bid', 'ask', 'bidvol', 'askvol']\n",
    "        #     data.index = data['dt'].apply(lambda x: datetime.strptime(x, '%Y-%m-%d %H:%M:%S.%f'))\n",
    "        #     inst_max = data.index.max().date()\n",
    "        \n",
    "    else:\n",
    "        \n",
    "        # inst_max = datetime.strftime(datetime.today(), '%Y-%m-%d')\n",
    "        # inst_min = datetime.strftime((datetime.today() - BDay(DATE_RANGE)).date(), '%Y-%m-%d')\n",
    "        inst_min = False\n",
    "        inst_max = False\n",
    "    \n",
    "    return inst_min, inst_max\n",
    "\n",
    "\n",
    "def download(inst, start_date, end_date):\n",
    "    \n",
    "    # given start and end date, download each inst a day at a time\n",
    "    \n",
    "    start_dt = datetime.strptime(start_date, '%Y-%m-%d')\n",
    "    end_dt = datetime.strptime(end_date, '%Y-%m-%d')\n",
    "    diff = (end_dt - start_dt).days\n",
    "    date_list = [datetime.strftime(end_dt - timedelta(days=x), '%Y-%m-%d') for x in range(0, diff)]\n",
    "    \n",
    "    for date in date_list:\n",
    "        download_tick_from_dukascopy.main(inst, date, date, './{}/{}'.format(path, inst))\n",
    "\n",
    "        \n",
    "def check_current(inst):\n",
    "    \n",
    "    # check current date against last updated date for all inst's\n",
    "    \n",
    "    inst_min, inst_max = check_max(inst)\n",
    "\n",
    "    if all([inst_min, inst_max]):\n",
    "    \n",
    "        # Checking start date\n",
    "        # If min < than this, you're good.\n",
    "        if datetime.strptime(inst_min, '%Y-%m-%d').date() < (datetime.today() - BDay(DATE_RANGE)).date():\n",
    "            print('start date good')\n",
    "\n",
    "        # Else, download from this to whereever the min was.  \n",
    "        else:\n",
    "            to_download_start = datetime.strftime((datetime.today() - BDay(DATE_RANGE)).date(), '%Y-%m-%d')\n",
    "            to_download_end = inst_min\n",
    "\n",
    "            download(inst, to_download_start, to_download_end)\n",
    "\n",
    "        # Checking end date\n",
    "        if datetime.strptime(inst_max, '%Y-%m-%d').date() == datetime.today().date():\n",
    "            print('end date good')\n",
    "\n",
    "        # else, download from max to today\n",
    "        else:\n",
    "            to_download_start = inst_max\n",
    "            to_download_end = datetime.strftime(datetime.today(), '%Y-%m-%d')\n",
    "\n",
    "            download(inst, to_download_start, to_download_end)\n",
    "            \n",
    "    else:\n",
    "        to_download_start = datetime.strftime((datetime.today() - BDay(DATE_RANGE)).date(), '%Y-%m-%d')\n",
    "        to_download_end = datetime.strftime(datetime.today(), '%Y-%m-%d')\n",
    "\n",
    "        download(inst, to_download_start, to_download_end)\n",
    "\n",
    "    return\n",
    "\n",
    "\n",
    "\n",
    "def handle_check(inst):\n",
    "    \n",
    "    tries = 0\n",
    "    \n",
    "    try:\n",
    "        check_current(inst)\n",
    "    except OSError as e: # may be redundant if handling in update()\n",
    "        print(e)\n",
    "        \n",
    "        if inst not in os.listdir(path):\n",
    "            os.mkdir('{}/{}'.format(path, inst))\n",
    "        \n",
    "        handle_check(inst)\n",
    "    except urllib2.URLError as e: # not sure if this wil work, will have to check later... could make inf loop\n",
    "        print('URLError', e)\n",
    "        tries += handle_check(inst)\n",
    "        print('e tries', tries)\n",
    "        \n",
    "    print('all tries', tries)\n",
    "    return tries"
   ]
  },
  {
   "cell_type": "code",
   "execution_count": 10,
   "metadata": {},
   "outputs": [],
   "source": [
    "def update():\n",
    "    \n",
    "    # update all things\n",
    "        \n",
    "    with open(inst_txt_path, 'r') as f:\n",
    "        insts = f.read().split('\\n')\n",
    "    print(insts)\n",
    "\n",
    "    for inst in insts:\n",
    "        print(inst)\n",
    "        if inst not in os.listdir(path):\n",
    "            os.mkdir('{}/{}'.format(path, inst))\n",
    "        # print(os.listdir('{}/{}'.format(path, inst)))\n",
    "        \n",
    "        handle_check(inst)\n",
    "    \n",
    "    # consider making some meta-file that keeps last updated date instead of concatting everytime\n",
    "    \n",
    "    \n",
    "    \n",
    "    return"
   ]
  },
  {
   "cell_type": "code",
   "execution_count": 11,
   "metadata": {},
   "outputs": [],
   "source": [
    "# inst = 'USATECHIDXUSD'"
   ]
  },
  {
   "cell_type": "code",
   "execution_count": null,
   "metadata": {},
   "outputs": [],
   "source": [
    "update()"
   ]
  },
  {
   "cell_type": "code",
   "execution_count": 12,
   "metadata": {},
   "outputs": [],
   "source": [
    "# with open(inst_txt_path, 'r') as f:\n",
    "#     insts = f.read().split('\\n')\n",
    "# print(insts)\n",
    "\n",
    "# for inst in insts:\n",
    "#     print(inst)\n",
    "#     if inst not in os.listdir(path):\n",
    "#         os.mkdir('{}/{}'.format(path, inst))\n",
    "#     print(os.listdir('{}/{}'.format(path, inst)))\n",
    "    \n",
    "#     # consider making some meta-file that keeps last updated date instead of concatting everytime\n",
    "    "
   ]
  },
  {
   "cell_type": "code",
   "execution_count": 16,
   "metadata": {},
   "outputs": [
    {
     "name": "stdout",
     "output_type": "stream",
     "text": [
      "Wall time: 5.22 s\n"
     ]
    }
   ],
   "source": [
    "%%time\n",
    "# Try getting avg rotations\n",
    "inst = 'GBPUSD'\n",
    "data = clean(inst)"
   ]
  },
  {
   "cell_type": "code",
   "execution_count": 25,
   "metadata": {},
   "outputs": [],
   "source": [
    "import matplotlib.pyplot as plt\n",
    "from tqdm.notebook import tqdm\n",
    "\n",
    "# data['mid']['close'].plot()"
   ]
  },
  {
   "cell_type": "code",
   "execution_count": 19,
   "metadata": {},
   "outputs": [],
   "source": [
    "data = data['mid']"
   ]
  },
  {
   "cell_type": "code",
   "execution_count": 20,
   "metadata": {},
   "outputs": [
    {
     "data": {
      "application/vnd.jupyter.widget-view+json": {
       "model_id": "40b941932f2546039fcdec79c72758ec",
       "version_major": 2,
       "version_minor": 0
      },
      "text/plain": [
       "HBox(children=(HTML(value=''), FloatProgress(value=1.0, bar_style='info', layout=Layout(width='20px'), max=1.0…"
      ]
     },
     "metadata": {},
     "output_type": "display_data"
    },
    {
     "name": "stdout",
     "output_type": "stream",
     "text": [
      "\n"
     ]
    },
    {
     "data": {
      "application/vnd.jupyter.widget-view+json": {
       "model_id": "471f0c6f5ba340959f50be5734e09b37",
       "version_major": 2,
       "version_minor": 0
      },
      "text/plain": [
       "HBox(children=(HTML(value=''), FloatProgress(value=0.0, max=3047.0), HTML(value='')))"
      ]
     },
     "metadata": {},
     "output_type": "display_data"
    },
    {
     "name": "stdout",
     "output_type": "stream",
     "text": [
      "\n"
     ]
    }
   ],
   "source": [
    "# Get sign of each bar (-1, 0, 1)\n",
    "data['sign'] = np.sign(data['close'] - data['open'])\n",
    "\n",
    "# Group together (including 0's at end of group)\n",
    "prev = data['sign'][0]\n",
    "g = 0\n",
    "for i, s in tqdm(zip(data.index, data['sign'])):\n",
    "    if s == 1:\n",
    "        if prev == 1:\n",
    "            # continue up group\n",
    "            # print(i, s, 'yes', g)\n",
    "            data.loc[i, 'g'] = g\n",
    "        else:\n",
    "            # new up group\n",
    "            # iterate group\n",
    "            g += 1\n",
    "            # print(i, s, 'new', g)\n",
    "            data.loc[i, 'g'] = g\n",
    "    if s == -1:\n",
    "        if prev == -1:\n",
    "            # continue down group\n",
    "            # print(i, s, 'yes', g)\n",
    "            data.loc[i, 'g'] = g\n",
    "        else:\n",
    "            # new down group\n",
    "            # iterate group\n",
    "            g += 1\n",
    "            # print(i, s, 'new', g)\n",
    "            data.loc[i, 'g'] = g\n",
    "    if s == 0:\n",
    "        # add to last group\n",
    "        # print(i, s, 'add to last', g)\n",
    "        data.loc[i, 'g'] = g\n",
    "    prev = s\n",
    "    \n",
    "# Now I'm thinking of grouping them two legs (of single \"rotation\") together\n",
    "# If it's down/up, find the low.\n",
    "# If it's up/down, find the high.\n",
    "# This gets us the most accurate points for each rotation.\n",
    "\n",
    "\n",
    "r = []\n",
    "for x in tqdm(range(int(max(data['g'])))):\n",
    "    # if g == x or x+1, find min/max\n",
    "    # if g sign is +, find the +/- rot (high)\n",
    "    # if g sign is -, find -/+ rot (low)\n",
    "    \n",
    "    if data.loc[data['g'] == x, 'sign'].iloc[0] > 0:\n",
    "        h = data.loc[(data['g'] == x) | (data['g'] == x+1), 'high']\n",
    "        i = h.idxmax()\n",
    "        h = h.max()\n",
    "        # data.loc[i, 'r'] = h\n",
    "        r.append([i, h])\n",
    "    if data.loc[data['g'] == x, 'sign'].iloc[0] < 0:\n",
    "        l = data.loc[(data['g'] == x) | (data['g'] == x+1), 'low']\n",
    "        i = l.idxmin()\n",
    "        l = l.min()\n",
    "        # data.loc[i, 'r'] = l\n",
    "        r.append([i, l])"
   ]
  },
  {
   "cell_type": "code",
   "execution_count": 21,
   "metadata": {},
   "outputs": [
    {
     "data": {
      "text/html": [
       "<div>\n",
       "<style scoped>\n",
       "    .dataframe tbody tr th:only-of-type {\n",
       "        vertical-align: middle;\n",
       "    }\n",
       "\n",
       "    .dataframe tbody tr th {\n",
       "        vertical-align: top;\n",
       "    }\n",
       "\n",
       "    .dataframe thead th {\n",
       "        text-align: right;\n",
       "    }\n",
       "</style>\n",
       "<table border=\"1\" class=\"dataframe\">\n",
       "  <thead>\n",
       "    <tr style=\"text-align: right;\">\n",
       "      <th></th>\n",
       "      <th>open</th>\n",
       "      <th>high</th>\n",
       "      <th>low</th>\n",
       "      <th>close</th>\n",
       "      <th>sign</th>\n",
       "      <th>g</th>\n",
       "    </tr>\n",
       "    <tr>\n",
       "      <th>dt</th>\n",
       "      <th></th>\n",
       "      <th></th>\n",
       "      <th></th>\n",
       "      <th></th>\n",
       "      <th></th>\n",
       "      <th></th>\n",
       "    </tr>\n",
       "  </thead>\n",
       "  <tbody>\n",
       "    <tr>\n",
       "      <th>2021-04-06 00:00:00</th>\n",
       "      <td>1.391240</td>\n",
       "      <td>1.391240</td>\n",
       "      <td>1.391050</td>\n",
       "      <td>1.391225</td>\n",
       "      <td>-1.0</td>\n",
       "      <td>0.0</td>\n",
       "    </tr>\n",
       "    <tr>\n",
       "      <th>2021-04-06 00:01:00</th>\n",
       "      <td>1.391200</td>\n",
       "      <td>1.391395</td>\n",
       "      <td>1.391170</td>\n",
       "      <td>1.391335</td>\n",
       "      <td>1.0</td>\n",
       "      <td>1.0</td>\n",
       "    </tr>\n",
       "    <tr>\n",
       "      <th>2021-04-06 00:02:00</th>\n",
       "      <td>1.391360</td>\n",
       "      <td>1.391405</td>\n",
       "      <td>1.391320</td>\n",
       "      <td>1.391380</td>\n",
       "      <td>1.0</td>\n",
       "      <td>1.0</td>\n",
       "    </tr>\n",
       "    <tr>\n",
       "      <th>2021-04-06 00:03:00</th>\n",
       "      <td>1.391375</td>\n",
       "      <td>1.391380</td>\n",
       "      <td>1.391155</td>\n",
       "      <td>1.391160</td>\n",
       "      <td>-1.0</td>\n",
       "      <td>2.0</td>\n",
       "    </tr>\n",
       "    <tr>\n",
       "      <th>2021-04-06 00:04:00</th>\n",
       "      <td>1.391155</td>\n",
       "      <td>1.391160</td>\n",
       "      <td>1.391065</td>\n",
       "      <td>1.391070</td>\n",
       "      <td>-1.0</td>\n",
       "      <td>2.0</td>\n",
       "    </tr>\n",
       "    <tr>\n",
       "      <th>...</th>\n",
       "      <td>...</td>\n",
       "      <td>...</td>\n",
       "      <td>...</td>\n",
       "      <td>...</td>\n",
       "      <td>...</td>\n",
       "      <td>...</td>\n",
       "    </tr>\n",
       "    <tr>\n",
       "      <th>2021-04-12 05:55:00</th>\n",
       "      <td>1.369165</td>\n",
       "      <td>1.369170</td>\n",
       "      <td>1.369075</td>\n",
       "      <td>1.369075</td>\n",
       "      <td>-1.0</td>\n",
       "      <td>3045.0</td>\n",
       "    </tr>\n",
       "    <tr>\n",
       "      <th>2021-04-12 05:56:00</th>\n",
       "      <td>1.369080</td>\n",
       "      <td>1.369225</td>\n",
       "      <td>1.369075</td>\n",
       "      <td>1.369225</td>\n",
       "      <td>1.0</td>\n",
       "      <td>3046.0</td>\n",
       "    </tr>\n",
       "    <tr>\n",
       "      <th>2021-04-12 05:57:00</th>\n",
       "      <td>1.369275</td>\n",
       "      <td>1.369435</td>\n",
       "      <td>1.369275</td>\n",
       "      <td>1.369425</td>\n",
       "      <td>1.0</td>\n",
       "      <td>3046.0</td>\n",
       "    </tr>\n",
       "    <tr>\n",
       "      <th>2021-04-12 05:58:00</th>\n",
       "      <td>1.369420</td>\n",
       "      <td>1.369420</td>\n",
       "      <td>1.369100</td>\n",
       "      <td>1.369205</td>\n",
       "      <td>-1.0</td>\n",
       "      <td>3047.0</td>\n",
       "    </tr>\n",
       "    <tr>\n",
       "      <th>2021-04-12 05:59:00</th>\n",
       "      <td>1.369185</td>\n",
       "      <td>1.369205</td>\n",
       "      <td>1.369120</td>\n",
       "      <td>1.369120</td>\n",
       "      <td>-1.0</td>\n",
       "      <td>3047.0</td>\n",
       "    </tr>\n",
       "  </tbody>\n",
       "</table>\n",
       "<p>9000 rows × 6 columns</p>\n",
       "</div>"
      ],
      "text/plain": [
       "                         open      high       low     close  sign       g\n",
       "dt                                                                       \n",
       "2021-04-06 00:00:00  1.391240  1.391240  1.391050  1.391225  -1.0     0.0\n",
       "2021-04-06 00:01:00  1.391200  1.391395  1.391170  1.391335   1.0     1.0\n",
       "2021-04-06 00:02:00  1.391360  1.391405  1.391320  1.391380   1.0     1.0\n",
       "2021-04-06 00:03:00  1.391375  1.391380  1.391155  1.391160  -1.0     2.0\n",
       "2021-04-06 00:04:00  1.391155  1.391160  1.391065  1.391070  -1.0     2.0\n",
       "...                       ...       ...       ...       ...   ...     ...\n",
       "2021-04-12 05:55:00  1.369165  1.369170  1.369075  1.369075  -1.0  3045.0\n",
       "2021-04-12 05:56:00  1.369080  1.369225  1.369075  1.369225   1.0  3046.0\n",
       "2021-04-12 05:57:00  1.369275  1.369435  1.369275  1.369425   1.0  3046.0\n",
       "2021-04-12 05:58:00  1.369420  1.369420  1.369100  1.369205  -1.0  3047.0\n",
       "2021-04-12 05:59:00  1.369185  1.369205  1.369120  1.369120  -1.0  3047.0\n",
       "\n",
       "[9000 rows x 6 columns]"
      ]
     },
     "execution_count": 21,
     "metadata": {},
     "output_type": "execute_result"
    }
   ],
   "source": [
    "data"
   ]
  },
  {
   "cell_type": "code",
   "execution_count": 28,
   "metadata": {},
   "outputs": [
    {
     "ename": "TypeError",
     "evalue": "'int' object is not subscriptable",
     "output_type": "error",
     "traceback": [
      "\u001b[1;31m---------------------------------------------------------------------------\u001b[0m",
      "\u001b[1;31mTypeError\u001b[0m                                 Traceback (most recent call last)",
      "\u001b[1;32m<ipython-input-28-f2be2747a310>\u001b[0m in \u001b[0;36m<module>\u001b[1;34m\u001b[0m\n\u001b[0;32m      1\u001b[0m \u001b[0mplt\u001b[0m\u001b[1;33m.\u001b[0m\u001b[0mplot\u001b[0m\u001b[1;33m(\u001b[0m\u001b[0mdata\u001b[0m\u001b[1;33m[\u001b[0m\u001b[1;33m[\u001b[0m\u001b[1;34m'open'\u001b[0m\u001b[1;33m,\u001b[0m \u001b[1;34m'high'\u001b[0m\u001b[1;33m,\u001b[0m \u001b[1;34m'low'\u001b[0m\u001b[1;33m,\u001b[0m \u001b[1;34m'close'\u001b[0m\u001b[1;33m]\u001b[0m\u001b[1;33m]\u001b[0m\u001b[1;33m[\u001b[0m\u001b[1;33m-\u001b[0m\u001b[1;36m50\u001b[0m\u001b[1;33m:\u001b[0m\u001b[1;33m]\u001b[0m\u001b[1;33m)\u001b[0m\u001b[1;33m\u001b[0m\u001b[1;33m\u001b[0m\u001b[0m\n\u001b[1;32m----> 2\u001b[1;33m \u001b[0mplt\u001b[0m\u001b[1;33m.\u001b[0m\u001b[0mscatter\u001b[0m\u001b[1;33m(\u001b[0m\u001b[1;33m[\u001b[0m\u001b[0mx\u001b[0m\u001b[1;33m[\u001b[0m\u001b[1;36m0\u001b[0m\u001b[1;33m]\u001b[0m \u001b[1;32mfor\u001b[0m \u001b[0mx\u001b[0m \u001b[1;32min\u001b[0m \u001b[0mr\u001b[0m\u001b[1;33m[\u001b[0m\u001b[1;33m-\u001b[0m\u001b[1;36m27\u001b[0m\u001b[1;33m:\u001b[0m\u001b[1;33m]\u001b[0m\u001b[1;33m]\u001b[0m\u001b[1;33m,\u001b[0m \u001b[1;33m[\u001b[0m\u001b[0mx\u001b[0m\u001b[1;33m[\u001b[0m\u001b[1;36m1\u001b[0m\u001b[1;33m]\u001b[0m \u001b[1;32mfor\u001b[0m \u001b[0mx\u001b[0m \u001b[1;32min\u001b[0m \u001b[0mr\u001b[0m\u001b[1;33m[\u001b[0m\u001b[1;33m-\u001b[0m\u001b[1;36m27\u001b[0m\u001b[1;33m:\u001b[0m\u001b[1;33m]\u001b[0m\u001b[1;33m]\u001b[0m\u001b[1;33m)\u001b[0m\u001b[1;33m\u001b[0m\u001b[1;33m\u001b[0m\u001b[0m\n\u001b[0m",
      "\u001b[1;32m<ipython-input-28-f2be2747a310>\u001b[0m in \u001b[0;36m<listcomp>\u001b[1;34m(.0)\u001b[0m\n\u001b[0;32m      1\u001b[0m \u001b[0mplt\u001b[0m\u001b[1;33m.\u001b[0m\u001b[0mplot\u001b[0m\u001b[1;33m(\u001b[0m\u001b[0mdata\u001b[0m\u001b[1;33m[\u001b[0m\u001b[1;33m[\u001b[0m\u001b[1;34m'open'\u001b[0m\u001b[1;33m,\u001b[0m \u001b[1;34m'high'\u001b[0m\u001b[1;33m,\u001b[0m \u001b[1;34m'low'\u001b[0m\u001b[1;33m,\u001b[0m \u001b[1;34m'close'\u001b[0m\u001b[1;33m]\u001b[0m\u001b[1;33m]\u001b[0m\u001b[1;33m[\u001b[0m\u001b[1;33m-\u001b[0m\u001b[1;36m50\u001b[0m\u001b[1;33m:\u001b[0m\u001b[1;33m]\u001b[0m\u001b[1;33m)\u001b[0m\u001b[1;33m\u001b[0m\u001b[1;33m\u001b[0m\u001b[0m\n\u001b[1;32m----> 2\u001b[1;33m \u001b[0mplt\u001b[0m\u001b[1;33m.\u001b[0m\u001b[0mscatter\u001b[0m\u001b[1;33m(\u001b[0m\u001b[1;33m[\u001b[0m\u001b[0mx\u001b[0m\u001b[1;33m[\u001b[0m\u001b[1;36m0\u001b[0m\u001b[1;33m]\u001b[0m \u001b[1;32mfor\u001b[0m \u001b[0mx\u001b[0m \u001b[1;32min\u001b[0m \u001b[0mr\u001b[0m\u001b[1;33m[\u001b[0m\u001b[1;33m-\u001b[0m\u001b[1;36m27\u001b[0m\u001b[1;33m:\u001b[0m\u001b[1;33m]\u001b[0m\u001b[1;33m]\u001b[0m\u001b[1;33m,\u001b[0m \u001b[1;33m[\u001b[0m\u001b[0mx\u001b[0m\u001b[1;33m[\u001b[0m\u001b[1;36m1\u001b[0m\u001b[1;33m]\u001b[0m \u001b[1;32mfor\u001b[0m \u001b[0mx\u001b[0m \u001b[1;32min\u001b[0m \u001b[0mr\u001b[0m\u001b[1;33m[\u001b[0m\u001b[1;33m-\u001b[0m\u001b[1;36m27\u001b[0m\u001b[1;33m:\u001b[0m\u001b[1;33m]\u001b[0m\u001b[1;33m]\u001b[0m\u001b[1;33m)\u001b[0m\u001b[1;33m\u001b[0m\u001b[1;33m\u001b[0m\u001b[0m\n\u001b[0m",
      "\u001b[1;31mTypeError\u001b[0m: 'int' object is not subscriptable"
     ]
    },
    {
     "data": {
      "image/png": "[encoded data removed]",
      "text/plain": [
       "<Figure size 432x288 with 1 Axes>"
      ]
     },
     "metadata": {
      "needs_background": "light"
     },
     "output_type": "display_data"
    }
   ],
   "source": [
    "plt.plot(data[['open', 'high', 'low', 'close']][-50:])\n",
    "plt.scatter([x[0] for x in r[-27:]], [x[1] for x in r[-27:]])"
   ]
  },
  {
   "cell_type": "code",
   "execution_count": 31,
   "metadata": {},
   "outputs": [
    {
     "data": {
      "application/vnd.jupyter.widget-view+json": {
       "model_id": "6200c47d6d164ce18b4a2c18a1760397",
       "version_major": 2,
       "version_minor": 0
      },
      "text/plain": [
       "HBox(children=(HTML(value=''), FloatProgress(value=0.0, max=3047.0), HTML(value='')))"
      ]
     },
     "metadata": {},
     "output_type": "display_data"
    },
    {
     "name": "stdout",
     "output_type": "stream",
     "text": [
      "\n"
     ]
    }
   ],
   "source": [
    "# Now I'm thinking of grouping them two legs (of single \"rotation\") together\n",
    "# If it's down/up, find the low.\n",
    "# If it's up/down, find the high.\n",
    "# This gets us the most accurate points for each rotation.\n",
    "\n",
    "r = []\n",
    "for x in tqdm(range(int(max(data['g'])))):\n",
    "    # if g == x or x+1, find min/max\n",
    "    # if g sign is +, find the +/- rot (high)\n",
    "    # if g sign is -, find -/+ rot (low)\n",
    "    \n",
    "    if data.loc[data['g'] == x, 'sign'].iloc[0] > 0:\n",
    "        h = data.loc[(data['g'] == x) | (data['g'] == x+1), 'high']\n",
    "        i = h.idxmax()\n",
    "        h = h.max()\n",
    "        # data.loc[i, 'r'] = h\n",
    "        r.append([i, h])\n",
    "    if data.loc[data['g'] == x, 'sign'].iloc[0] < 0:\n",
    "        l = data.loc[(data['g'] == x) | (data['g'] == x+1), 'low']\n",
    "        i = l.idxmin()\n",
    "        l = l.min()\n",
    "        # data.loc[i, 'r'] = l\n",
    "        r.append([i, l])"
   ]
  },
  {
   "cell_type": "code",
   "execution_count": 32,
   "metadata": {},
   "outputs": [],
   "source": [
    "r = pd.DataFrame(r)\n",
    "r['d'] = r[1].diff()\n",
    "r['ad'] = abs(r['d'])"
   ]
  },
  {
   "cell_type": "code",
   "execution_count": 39,
   "metadata": {},
   "outputs": [],
   "source": [
    "# dependent on scaling\n",
    "r[['d', 'ad']] = r[['d', 'ad']] * 10000"
   ]
  },
  {
   "cell_type": "code",
   "execution_count": 41,
   "metadata": {},
   "outputs": [
    {
     "data": {
      "image/png": "[encoded data removed]",
      "text/plain": [
       "<Figure size 432x288 with 1 Axes>"
      ]
     },
     "metadata": {
      "needs_background": "light"
     },
     "output_type": "display_data"
    },
    {
     "data": {
      "image/png": "[encoded data removed]",
      "text/plain": [
       "<Figure size 432x288 with 1 Axes>"
      ]
     },
     "metadata": {
      "needs_background": "light"
     },
     "output_type": "display_data"
    }
   ],
   "source": [
    "r['d'].plot(kind='hist', bins=100)\n",
    "plt.show()\n",
    "r['ad'].plot(kind='hist', bins=100)\n",
    "plt.show()"
   ]
  },
  {
   "cell_type": "code",
   "execution_count": 42,
   "metadata": {},
   "outputs": [
    {
     "data": {
      "text/plain": [
       "count    3046.000000\n",
       "mean        3.491284\n",
       "std         3.101680\n",
       "min         0.000000\n",
       "25%         1.500000\n",
       "50%         2.650000\n",
       "75%         4.487500\n",
       "max        36.450000\n",
       "Name: ad, dtype: float64"
      ]
     },
     "execution_count": 42,
     "metadata": {},
     "output_type": "execute_result"
    }
   ],
   "source": [
    "r['ad'].describe()"
   ]
  },
  {
   "cell_type": "code",
   "execution_count": 40,
   "metadata": {},
   "outputs": [
    {
     "data": {
      "text/html": [
       "<div>\n",
       "<style scoped>\n",
       "    .dataframe tbody tr th:only-of-type {\n",
       "        vertical-align: middle;\n",
       "    }\n",
       "\n",
       "    .dataframe tbody tr th {\n",
       "        vertical-align: top;\n",
       "    }\n",
       "\n",
       "    .dataframe thead th {\n",
       "        text-align: right;\n",
       "    }\n",
       "</style>\n",
       "<table border=\"1\" class=\"dataframe\">\n",
       "  <thead>\n",
       "    <tr style=\"text-align: right;\">\n",
       "      <th></th>\n",
       "      <th>0</th>\n",
       "      <th>1</th>\n",
       "      <th>d</th>\n",
       "      <th>ad</th>\n",
       "    </tr>\n",
       "  </thead>\n",
       "  <tbody>\n",
       "    <tr>\n",
       "      <th>0</th>\n",
       "      <td>2021-04-06 00:00:00</td>\n",
       "      <td>1.391050</td>\n",
       "      <td>NaN</td>\n",
       "      <td>NaN</td>\n",
       "    </tr>\n",
       "    <tr>\n",
       "      <th>1</th>\n",
       "      <td>2021-04-06 00:02:00</td>\n",
       "      <td>1.391405</td>\n",
       "      <td>3.55</td>\n",
       "      <td>3.55</td>\n",
       "    </tr>\n",
       "    <tr>\n",
       "      <th>2</th>\n",
       "      <td>2021-04-06 00:04:00</td>\n",
       "      <td>1.391065</td>\n",
       "      <td>-3.40</td>\n",
       "      <td>3.40</td>\n",
       "    </tr>\n",
       "    <tr>\n",
       "      <th>3</th>\n",
       "      <td>2021-04-06 00:08:00</td>\n",
       "      <td>1.391475</td>\n",
       "      <td>4.10</td>\n",
       "      <td>4.10</td>\n",
       "    </tr>\n",
       "    <tr>\n",
       "      <th>4</th>\n",
       "      <td>2021-04-06 00:13:00</td>\n",
       "      <td>1.390840</td>\n",
       "      <td>-6.35</td>\n",
       "      <td>6.35</td>\n",
       "    </tr>\n",
       "    <tr>\n",
       "      <th>...</th>\n",
       "      <td>...</td>\n",
       "      <td>...</td>\n",
       "      <td>...</td>\n",
       "      <td>...</td>\n",
       "    </tr>\n",
       "    <tr>\n",
       "      <th>3042</th>\n",
       "      <td>2021-04-12 05:52:00</td>\n",
       "      <td>1.369325</td>\n",
       "      <td>5.80</td>\n",
       "      <td>5.80</td>\n",
       "    </tr>\n",
       "    <tr>\n",
       "      <th>3043</th>\n",
       "      <td>2021-04-12 05:53:00</td>\n",
       "      <td>1.368995</td>\n",
       "      <td>-3.30</td>\n",
       "      <td>3.30</td>\n",
       "    </tr>\n",
       "    <tr>\n",
       "      <th>3044</th>\n",
       "      <td>2021-04-12 05:54:00</td>\n",
       "      <td>1.369185</td>\n",
       "      <td>1.90</td>\n",
       "      <td>1.90</td>\n",
       "    </tr>\n",
       "    <tr>\n",
       "      <th>3045</th>\n",
       "      <td>2021-04-12 05:55:00</td>\n",
       "      <td>1.369075</td>\n",
       "      <td>-1.10</td>\n",
       "      <td>1.10</td>\n",
       "    </tr>\n",
       "    <tr>\n",
       "      <th>3046</th>\n",
       "      <td>2021-04-12 05:57:00</td>\n",
       "      <td>1.369435</td>\n",
       "      <td>3.60</td>\n",
       "      <td>3.60</td>\n",
       "    </tr>\n",
       "  </tbody>\n",
       "</table>\n",
       "<p>3047 rows × 4 columns</p>\n",
       "</div>"
      ],
      "text/plain": [
       "                       0         1     d    ad\n",
       "0    2021-04-06 00:00:00  1.391050   NaN   NaN\n",
       "1    2021-04-06 00:02:00  1.391405  3.55  3.55\n",
       "2    2021-04-06 00:04:00  1.391065 -3.40  3.40\n",
       "3    2021-04-06 00:08:00  1.391475  4.10  4.10\n",
       "4    2021-04-06 00:13:00  1.390840 -6.35  6.35\n",
       "...                  ...       ...   ...   ...\n",
       "3042 2021-04-12 05:52:00  1.369325  5.80  5.80\n",
       "3043 2021-04-12 05:53:00  1.368995 -3.30  3.30\n",
       "3044 2021-04-12 05:54:00  1.369185  1.90  1.90\n",
       "3045 2021-04-12 05:55:00  1.369075 -1.10  1.10\n",
       "3046 2021-04-12 05:57:00  1.369435  3.60  3.60\n",
       "\n",
       "[3047 rows x 4 columns]"
      ]
     },
     "execution_count": 40,
     "metadata": {},
     "output_type": "execute_result"
    }
   ],
   "source": [
    "r"
   ]
  },
  {
   "cell_type": "code",
   "execution_count": 56,
   "metadata": {},
   "outputs": [
    {
     "data": {
      "text/plain": [
       "<matplotlib.axes._subplots.AxesSubplot at 0x17313d477f0>"
      ]
     },
     "execution_count": 56,
     "metadata": {},
     "output_type": "execute_result"
    },
    {
     "data": {
      "image/png": "[encoded data removed]",
      "text/plain": [
       "<Figure size 1224x504 with 1 Axes>"
      ]
     },
     "metadata": {
      "needs_background": "light"
     },
     "output_type": "display_data"
    }
   ],
   "source": [
    "r['adr'] = r['ad'].rolling(30).mean()\n",
    "r['htime'] = r[0]\n",
    "# r.set_index('htime')['adr'].dropna().plot(figsize=(13, 5))\n",
    "\n",
    "r.set_index('htime')['adr'].plot(\n",
    "    figsize=(17,7)\n",
    ")"
   ]
  },
  {
   "cell_type": "code",
   "execution_count": 45,
   "metadata": {},
   "outputs": [
    {
     "data": {
      "text/plain": [
       "1      1.385379\n",
       "d      5.050000\n",
       "ad     7.150000\n",
       "dr     0.396667\n",
       "adr    6.048000\n",
       "Name: 0.9, dtype: float64"
      ]
     },
     "execution_count": 45,
     "metadata": {},
     "output_type": "execute_result"
    }
   ],
   "source": [
    "r.quantile(.90)"
   ]
  },
  {
   "cell_type": "code",
   "execution_count": 46,
   "metadata": {},
   "outputs": [
    {
     "data": {
      "text/plain": [
       "1      1.389654\n",
       "d      7.050000\n",
       "ad     9.150000\n",
       "dr     0.541667\n",
       "adr    6.681667\n",
       "Name: 0.95, dtype: float64"
      ]
     },
     "execution_count": 46,
     "metadata": {},
     "output_type": "execute_result"
    }
   ],
   "source": [
    "r.quantile(.95)"
   ]
  },
  {
   "cell_type": "code",
   "execution_count": null,
   "metadata": {},
   "outputs": [],
   "source": []
  }
 ],
 "metadata": {
  "kernelspec": {
   "display_name": "Python 3",
   "language": "python",
   "name": "python3"
  },
  "language_info": {
   "codemirror_mode": {
    "name": "ipython",
    "version": 3
   },
   "file_extension": ".py",
   "mimetype": "text/x-python",
   "name": "python",
   "nbconvert_exporter": "python",
   "pygments_lexer": "ipython3",
   "version": "3.8.5"
  }
 },
 "nbformat": 4,
 "nbformat_minor": 4
}
